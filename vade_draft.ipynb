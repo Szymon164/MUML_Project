{
 "cells": [
  {
   "cell_type": "code",
   "execution_count": 7,
   "metadata": {},
   "outputs": [],
   "source": [
    "import torch"
   ]
  },
  {
   "cell_type": "code",
   "execution_count": 8,
   "metadata": {},
   "outputs": [],
   "source": [
    "batch_size=3\n",
    "latent_dim=2\n",
    "n_centroid=6"
   ]
  },
  {
   "cell_type": "code",
   "execution_count": 9,
   "metadata": {},
   "outputs": [],
   "source": [
    "def gmmpara_init(latent_dim: int,n_centroid: int):\n",
    "    \n",
    "    theta_init=torch.ones(n_centroid)/n_centroid\n",
    "    u_init=torch.zeros((latent_dim,n_centroid))\n",
    "    lambda_init=torch.ones((latent_dim,n_centroid))\n",
    "    \n",
    "    return theta_init, u_init, lambda_init"
   ]
  },
  {
   "cell_type": "code",
   "execution_count": 10,
   "metadata": {},
   "outputs": [],
   "source": [
    "def get_gamma(temp_z: torch.Tensor, u_p: torch.Tensor, lambda_p:torch.Tensor, theta_p: torch.Tensor, n_centroid: int):\n",
    "    z_temp = temp_z.unsqueeze(2).expand(temp_z.shape[0], temp_z.shape[1], n_centroid)\n",
    "\n",
    "    u_p_temp = u_p.unsqueeze(0).expand(temp_z.shape[0], -1, -1)\n",
    "    lambda_p_temp = lambda_p.unsqueeze(0).expand(temp_z.shape[0], -1, -1)\n",
    "    theta_p_temp = theta_p.reshape(1,1,theta_p.shape[0])*torch.ones(temp_z.shape[0], temp_z.shape[1], n_centroid)\n",
    "\n",
    "    temp_p_c_z = torch.exp(torch.sum((torch.log(theta_p_temp)-0.5*torch.log(2*torch.pi*lambda_p_temp)-torch.square(z_temp-u_p_temp)/(2*lambda_p_temp)),dim=1))+1e-10\n",
    "    return temp_p_c_z/torch.sum(temp_p_c_z,dim=-1,keepdim=True)"
   ]
  },
  {
   "cell_type": "code",
   "execution_count": 11,
   "metadata": {},
   "outputs": [],
   "source": [
    "#TODO: finish it someday\n",
    "def vade_loss(z: torch.Tensor, x: torch.Tensor, x_decoded: torch.Tensor, u_p: torch.Tensor, lambda_p: torch.Tensor, theta_p: torch.Tensor, n_centroid: int):\n",
    "    z_temp = z.unsqueeze(2).expand(z.shape[0], z.shape[1], n_centroid)\n",
    "\n",
    "\n",
    "    u_p_temp = u_p.unsqueeze(0).expand(z.shape[0], -1, -1)\n",
    "    lambda_p_temp = lambda_p.unsqueeze(0).expand(z.shape[0], -1, -1)\n",
    "    theta_p_temp = theta_p.reshape(1,1,theta_p.shape[0])*torch.ones(z.shape[0], z.shape[1], n_centroid)"
   ]
  },
  {
   "cell_type": "code",
   "execution_count": 12,
   "metadata": {},
   "outputs": [],
   "source": [
    "theta_init, u_init, lambda_init = gmmpara_init(latent_dim,n_centroid)"
   ]
  },
  {
   "cell_type": "code",
   "execution_count": 13,
   "metadata": {},
   "outputs": [
    {
     "data": {
      "text/plain": [
       "tensor([[1, 2],\n",
       "        [4, 5],\n",
       "        [7, 8]])"
      ]
     },
     "execution_count": 13,
     "metadata": {},
     "output_type": "execute_result"
    }
   ],
   "source": [
    "test_tensor = torch.tensor([[1,2],[4,5],[7,8]])\n",
    "test_tensor"
   ]
  },
  {
   "cell_type": "code",
   "execution_count": 14,
   "metadata": {},
   "outputs": [
    {
     "data": {
      "text/plain": [
       "tensor([[0.1667, 0.1667, 0.1667, 0.1667, 0.1667, 0.1667],\n",
       "        [0.1667, 0.1667, 0.1667, 0.1667, 0.1667, 0.1667],\n",
       "        [0.1667, 0.1667, 0.1667, 0.1667, 0.1667, 0.1667]])"
      ]
     },
     "execution_count": 14,
     "metadata": {},
     "output_type": "execute_result"
    }
   ],
   "source": [
    "get_gamma(test_tensor,u_init,lambda_init,theta_init,n_centroid)"
   ]
  }
 ],
 "metadata": {
  "kernelspec": {
   "display_name": "venv",
   "language": "python",
   "name": "python3"
  },
  "language_info": {
   "codemirror_mode": {
    "name": "ipython",
    "version": 3
   },
   "file_extension": ".py",
   "mimetype": "text/x-python",
   "name": "python",
   "nbconvert_exporter": "python",
   "pygments_lexer": "ipython3",
   "version": "3.10.6"
  }
 },
 "nbformat": 4,
 "nbformat_minor": 2
}
