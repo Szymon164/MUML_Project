{
 "cells": [
  {
   "cell_type": "code",
   "execution_count": 9,
   "metadata": {
    "id": "7ZDRDJzpNbD5"
   },
   "outputs": [],
   "source": [
    "import torch"
   ]
  },
  {
   "cell_type": "code",
   "execution_count": 10,
   "metadata": {
    "id": "T8-vkJFkNbD6"
   },
   "outputs": [],
   "source": [
    "class VADE:\n",
    "    def __init__(self, batch_size=3, latent_dim=2, n_centroid=6):\n",
    "        self.batch_size = batch_size\n",
    "        self.latent_dim = latent_dim\n",
    "        self.n_centroid = n_centroid\n",
    "        self.theta_p = torch.ones(self.n_centroid) / self.n_centroid\n",
    "        self.u_p = torch.zeros((self.latent_dim, self.n_centroid))\n",
    "        self.lambda_p = torch.ones((self.latent_dim, self.n_centroid))\n",
    "        return\n",
    "\n",
    "    def get_gamma(self, temp_z: torch.Tensor):\n",
    "        t_z_shape = temp_z.shape\n",
    "        z_temp = temp_z.unsqueeze(2).expand(t_z_shape[0], t_z_shape[1], self.n_centroid)\n",
    "\n",
    "        u_p_temp = self.u_p.unsqueeze(0).expand(t_z_shape[0], -1, -1)\n",
    "        lambda_p_temp = self.lambda_p.unsqueeze(0).expand(t_z_shape[0], -1, -1)\n",
    "        theta_p_temp = self.theta_p.reshape(1, 1, self.theta_p.shape[0]) * torch.ones(\n",
    "            t_z_shape[0], t_z_shape[1], self.n_centroid\n",
    "        )\n",
    "\n",
    "        temp_p_c_z = (\n",
    "            torch.exp(\n",
    "                torch.sum(\n",
    "                    (\n",
    "                        torch.log(theta_p_temp)\n",
    "                        - 0.5 * torch.log(2 * torch.pi * lambda_p_temp)\n",
    "                        - torch.square(z_temp - u_p_temp) / (2 * lambda_p_temp)\n",
    "                    ),\n",
    "                    dim=1,\n",
    "                )\n",
    "            )\n",
    "            + 1e-10\n",
    "        )\n",
    "        return temp_p_c_z / torch.sum(temp_p_c_z, dim=-1, keepdim=True)\n",
    "\n",
    "    # TODO: finish it someday\n",
    "    def vade_loss(self, z: torch.Tensor, x: torch.Tensor, x_decoded: torch.Tensor):\n",
    "        z_temp = z.unsqueeze(2).expand(z.shape[0], z.shape[1], self.n_centroid)\n",
    "        u_p_temp = self.u_p.unsqueeze(0).expand(z.shape[0], -1, -1)\n",
    "        lambda_p_temp = self.lambda_p.unsqueeze(0).expand(z.shape[0], -1, -1)\n",
    "        theta_p_temp = self.theta_p.reshape(1, 1, self.theta_p.shape[0]) * torch.ones(\n",
    "            z.shape[0], z.shape[1], n_centroid\n",
    "        )\n",
    "        return 0\n",
    "\n",
    "    # WIP, absolutely not tested\n",
    "    def vae_loss(self, x, x_decoded_mean, z_mean, z_log_var):\n",
    "        z_temp = z.unsqueeze(2).expand(z.shape[0], z.shape[1], self.n_centroid)\n",
    "        #z_mean_temp = z_mean.unsqueeze(2).expand(z_mean.shape[0], z_mean.shape[1], self.n_centroid)\n",
    "        #z_log_var_temp = z_log_var.unsqueeze(2).expand(z_log_var.shape[0], z_log_var.shape[1], self.n_centroid)\n",
    "        u_p_temp = self.u_p.unsqueeze(0).expand(z.shape[0], -1, -1)\n",
    "        lambda_p_temp = self.lambda_p.unsqueeze(0).expand(z.shape[0], -1, -1)\n",
    "        theta_p_temp = self.theta_p.reshape(1, 1, self.theta_p.shape[0]) * torch.ones(z.shape[0], z.shape[1], self.n_centroid)\n",
    "        p_c_z=torch.exp(torch.sum((torch.log(theta_p_temp)-0.5*torch.log(2*torch.pi*lambda_p_temp)-torch.square(z_temp-u_p_temp)/(2*lambda_p_temp)),axis=1))+1e-10\n",
    "\n",
    "        gamma=p_c_z/torch.sum(p_c_z,axis=-1,keepdim=True)\n",
    "        gamma_t=gamma.repeat(z.shape[1])\n",
    "        \n",
    "        if self.datatype == 'sigmoid':\n",
    "            func = torch.nn.functional.binary_cross_entropy\n",
    "        else:\n",
    "            func = torch.nn.functional.mse_loss\n",
    "\n",
    "        loss=self.alpha*self.original_dim * func(x, x_decoded_mean)\\\n",
    "        +torch.sum(0.5*gamma_t*(self.latent_dim*torch.log(torch.pi*2)+torch.log(lambda_p_temp)+torch.exp(z_log_var_t)/lambda_p_temp+torch.square(z_mean_t-u_p_temp)/lambda_p_temp),axis=(1,2))\\\n",
    "        -0.5*torch.sum(z_log_var+1,axis=-1)\\\n",
    "        -torch.sum(torch.log(K.repeat_elements(self.theta_p.dimshuffle('x',0),self.batch_size,0))*gamma,axis=-1)\\\n",
    "        +torch.sum(torch.log(gamma)*gamma,axis=-1)\n",
    "        return loss"
   ]
  },
  {
   "cell_type": "code",
   "execution_count": 11,
   "metadata": {
    "colab": {
     "base_uri": "https://localhost:8080/"
    },
    "id": "seeOXpoENbD6",
    "outputId": "d74a8ad0-05e9-46aa-9484-3a114edc9ca8"
   },
   "outputs": [
    {
     "output_type": "execute_result",
     "data": {
      "text/plain": [
       "tensor([[1, 2],\n",
       "        [4, 5],\n",
       "        [7, 8]])"
      ]
     },
     "metadata": {},
     "execution_count": 11
    }
   ],
   "source": [
    "test_tensor = torch.tensor([[1,2],[4,5],[7,8]])\n",
    "test_tensor"
   ]
  },
  {
   "cell_type": "code",
   "execution_count": 12,
   "metadata": {
    "colab": {
     "base_uri": "https://localhost:8080/"
    },
    "id": "xGnMHiRKNbD7",
    "outputId": "7adf7559-31ea-4a45-980e-2b9cb8a2e4cb"
   },
   "outputs": [
    {
     "output_type": "execute_result",
     "data": {
      "text/plain": [
       "tensor([[0.1667, 0.1667, 0.1667, 0.1667, 0.1667, 0.1667],\n",
       "        [0.1667, 0.1667, 0.1667, 0.1667, 0.1667, 0.1667],\n",
       "        [0.1667, 0.1667, 0.1667, 0.1667, 0.1667, 0.1667]])"
      ]
     },
     "metadata": {},
     "execution_count": 12
    }
   ],
   "source": [
    "vade = VADE()\n",
    "vade.get_gamma(test_tensor)"
   ]
  },
  {
   "cell_type": "markdown",
   "metadata": {
    "id": "2t5dCZwUNbD7"
   },
   "source": [
    "# Code below wasn't changed"
   ]
  },
  {
   "cell_type": "code",
   "execution_count": 13,
   "metadata": {
    "id": "J4o10-waNbD8"
   },
   "outputs": [],
   "source": [
    "batch_size=3\n",
    "latent_dim=2\n",
    "n_centroid=6"
   ]
  },
  {
   "cell_type": "code",
   "execution_count": 14,
   "metadata": {
    "id": "i6B2WeSfNbD8"
   },
   "outputs": [],
   "source": [
    "def gmmpara_init(latent_dim: int,n_centroid: int):\n",
    "\n",
    "    theta_init=torch.ones(n_centroid)/n_centroid\n",
    "    u_init=torch.zeros((latent_dim,n_centroid))\n",
    "    lambda_init=torch.ones((latent_dim,n_centroid))\n",
    "\n",
    "    return theta_init, u_init, lambda_init"
   ]
  },
  {
   "cell_type": "code",
   "execution_count": 15,
   "metadata": {
    "id": "SRTYg2CoNbD8"
   },
   "outputs": [],
   "source": [
    "def get_gamma(temp_z: torch.Tensor, u_p: torch.Tensor, lambda_p:torch.Tensor, theta_p: torch.Tensor, n_centroid: int):\n",
    "    z_temp = temp_z.unsqueeze(2).expand(temp_z.shape[0], temp_z.shape[1], n_centroid)\n",
    "\n",
    "    u_p_temp = u_p.unsqueeze(0).expand(temp_z.shape[0], -1, -1)\n",
    "    lambda_p_temp = lambda_p.unsqueeze(0).expand(temp_z.shape[0], -1, -1)\n",
    "    theta_p_temp = theta_p.reshape(1,1,theta_p.shape[0])*torch.ones(temp_z.shape[0], temp_z.shape[1], n_centroid)\n",
    "\n",
    "    temp_p_c_z = torch.exp(torch.sum((torch.log(theta_p_temp)-0.5*torch.log(2*torch.pi*lambda_p_temp)-torch.square(z_temp-u_p_temp)/(2*lambda_p_temp)),dim=1))+1e-10\n",
    "    return temp_p_c_z/torch.sum(temp_p_c_z,dim=-1,keepdim=True)"
   ]
  },
  {
   "cell_type": "code",
   "execution_count": 16,
   "metadata": {
    "id": "hiDth2EENbD9"
   },
   "outputs": [],
   "source": [
    "#TODO: finish it someday\n",
    "def vade_loss(z: torch.Tensor, x: torch.Tensor, x_decoded: torch.Tensor, u_p: torch.Tensor, lambda_p: torch.Tensor, theta_p: torch.Tensor, n_centroid: int):\n",
    "    z_temp = z.unsqueeze(2).expand(z.shape[0], z.shape[1], n_centroid)\n",
    "\n",
    "\n",
    "    u_p_temp = u_p.unsqueeze(0).expand(z.shape[0], -1, -1)\n",
    "    lambda_p_temp = lambda_p.unsqueeze(0).expand(z.shape[0], -1, -1)\n",
    "    theta_p_temp = theta_p.reshape(1,1,theta_p.shape[0])*torch.ones(z.shape[0], z.shape[1], n_centroid)"
   ]
  },
  {
   "cell_type": "code",
   "execution_count": 17,
   "metadata": {
    "id": "uK6iHcnRNbD9"
   },
   "outputs": [],
   "source": [
    "theta_init, u_init, lambda_init = gmmpara_init(latent_dim,n_centroid)"
   ]
  },
  {
   "cell_type": "code",
   "execution_count": 18,
   "metadata": {
    "colab": {
     "base_uri": "https://localhost:8080/"
    },
    "id": "b6OjT_K1NbD9",
    "outputId": "c3e48997-981c-45af-deff-008b28b56b64"
   },
   "outputs": [
    {
     "output_type": "execute_result",
     "data": {
      "text/plain": [
       "tensor([[1, 2],\n",
       "        [4, 5],\n",
       "        [7, 8]])"
      ]
     },
     "metadata": {},
     "execution_count": 18
    }
   ],
   "source": [
    "test_tensor = torch.tensor([[1,2],[4,5],[7,8]])\n",
    "test_tensor"
   ]
  },
  {
   "cell_type": "code",
   "execution_count": 19,
   "metadata": {
    "colab": {
     "base_uri": "https://localhost:8080/"
    },
    "id": "qFlID7YvNbD-",
    "outputId": "a04a2d42-6cdc-42d9-b4a3-d84529bb698e"
   },
   "outputs": [
    {
     "output_type": "execute_result",
     "data": {
      "text/plain": [
       "tensor([[0.1667, 0.1667, 0.1667, 0.1667, 0.1667, 0.1667],\n",
       "        [0.1667, 0.1667, 0.1667, 0.1667, 0.1667, 0.1667],\n",
       "        [0.1667, 0.1667, 0.1667, 0.1667, 0.1667, 0.1667]])"
      ]
     },
     "metadata": {},
     "execution_count": 19
    }
   ],
   "source": [
    "get_gamma(test_tensor,u_init,lambda_init,theta_init,n_centroid)"
   ]
  }
 ],
 "metadata": {
  "kernelspec": {
   "display_name": "venv",
   "language": "python",
   "name": "python3"
  },
  "language_info": {
   "codemirror_mode": {
    "name": "ipython",
    "version": 3
   },
   "file_extension": ".py",
   "mimetype": "text/x-python",
   "name": "python",
   "nbconvert_exporter": "python",
   "pygments_lexer": "ipython3",
   "version": "3.10.6"
  },
  "colab": {
   "provenance": []
  }
 },
 "nbformat": 4,
 "nbformat_minor": 0
}
